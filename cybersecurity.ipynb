{
  "nbformat": 4,
  "nbformat_minor": 0,
  "metadata": {
    "colab": {
      "provenance": [],
      "authorship_tag": "ABX9TyM0L9f0xfzO4Feps35UcwF9",
      "include_colab_link": true
    },
    "kernelspec": {
      "name": "python3",
      "display_name": "Python 3"
    },
    "language_info": {
      "name": "python"
    }
  },
  "cells": [
    {
      "cell_type": "markdown",
      "metadata": {
        "id": "view-in-github",
        "colab_type": "text"
      },
      "source": [
        "<a href=\"https://colab.research.google.com/github/vishymails/Cyber_security_AIML_june2024/blob/main/cybersecurity.ipynb\" target=\"_parent\"><img src=\"https://colab.research.google.com/assets/colab-badge.svg\" alt=\"Open In Colab\"/></a>"
      ]
    },
    {
      "cell_type": "code",
      "execution_count": 1,
      "metadata": {
        "id": "iemu4FKI2yag"
      },
      "outputs": [],
      "source": [
        "from random import random"
      ]
    },
    {
      "cell_type": "code",
      "source": [
        "time_series = [2 * x + random() for x in range(1, 100)]"
      ],
      "metadata": {
        "id": "dAohO_cn4DEu"
      },
      "execution_count": 4,
      "outputs": []
    },
    {
      "cell_type": "code",
      "source": [
        "%matplotlib inline\n",
        "import matplotlib.pyplot as plt\n",
        "\n",
        "plt.plot(time_series)\n",
        "plt.show()"
      ],
      "metadata": {
        "colab": {
          "base_uri": "https://localhost:8080/",
          "height": 430
        },
        "id": "zn7_ukBY4NBZ",
        "outputId": "42b43cb2-db01-4bae-bc62-d65d52ef49c6"
      },
      "execution_count": 5,
      "outputs": [
        {
          "output_type": "display_data",
          "data": {
            "text/plain": [
              "<Figure size 640x480 with 1 Axes>"
            ],
            "image/png": "[encoded data removed]"
          },
          "metadata": {}
        }
      ]
    },
    {
      "cell_type": "code",
      "source": [
        "from statsmodels.tsa.ar_model import AutoReg\n",
        "\n",
        "model = AutoReg(time_series, 12)\n",
        "model_fit = model.fit()\n",
        "\n",
        "y = model_fit.predict(len(time_series), len(time_series))\n",
        "print(y)"
      ],
      "metadata": {
        "colab": {
          "base_uri": "https://localhost:8080/"
        },
        "id": "YHvvB4K94UdT",
        "outputId": "3f5e3acf-2eda-492e-824b-3e7d2c391693"
      },
      "execution_count": 9,
      "outputs": [
        {
          "output_type": "stream",
          "name": "stdout",
          "text": [
            "[200.66332869]\n"
          ]
        }
      ]
    },
    {
      "cell_type": "code",
      "source": [
        "from statsmodels.tsa.arima.model import ARIMA\n",
        "\n",
        "model = ARIMA(time_series, order = (1, 0, 0))\n",
        "model_fit = model.fit()\n",
        "\n",
        "y = model_fit.predict(len(time_series), len(time_series))\n",
        "print(y)"
      ],
      "metadata": {
        "colab": {
          "base_uri": "https://localhost:8080/"
        },
        "id": "c1T8mns35fEK",
        "outputId": "aed5adf9-663b-4d31-dde8-4207e28b2e0c"
      },
      "execution_count": 12,
      "outputs": [
        {
          "output_type": "stream",
          "name": "stdout",
          "text": [
            "[198.8414094]\n"
          ]
        }
      ]
    },
    {
      "cell_type": "code",
      "source": [
        "model_fit.summary"
      ],
      "metadata": {
        "colab": {
          "base_uri": "https://localhost:8080/",
          "height": 186
        },
        "id": "3Y03Sjq36IRC",
        "outputId": "a56db03b-1e51-4ceb-a939-7ee21fe07ed1"
      },
      "execution_count": 13,
      "outputs": [
        {
          "output_type": "execute_result",
          "data": {
            "text/plain": [
              "<bound method SARIMAXResults.summary of <statsmodels.tsa.arima.model.ARIMAResults object at 0x78b0db2353f0>>"
            ],
            "text/html": [
              "<div style=\"max-width:800px; border: 1px solid var(--colab-border-color);\"><style>\n",
              "      pre.function-repr-contents {\n",
              "        overflow-x: auto;\n",
              "        padding: 8px 12px;\n",
              "        max-height: 500px;\n",
              "      }\n",
              "\n",
              "      pre.function-repr-contents.function-repr-contents-collapsed {\n",
              "        cursor: pointer;\n",
              "        max-height: 100px;\n",
              "      }\n",
              "    </style>\n",
              "    <pre style=\"white-space: initial; background:\n",
              "         var(--colab-secondary-surface-color); padding: 8px 12px;\n",
              "         border-bottom: 1px solid var(--colab-border-color);\"><b>statsmodels.tsa.statespace.sarimax.SARIMAXResults.summary</b><br/>def summary(alpha=0.05, start=None)</pre><pre class=\"function-repr-contents function-repr-contents-collapsed\" style=\"\"><a class=\"filepath\" style=\"display:none\" href=\"#\">/usr/local/lib/python3.10/dist-packages/statsmodels/tsa/statespace/sarimax.py</a>Summarize the Model\n",
              "\n",
              "Parameters\n",
              "----------\n",
              "alpha : float, optional\n",
              "    Significance level for the confidence intervals. Default is 0.05.\n",
              "start : int, optional\n",
              "    Integer of the start observation. Default is 0.\n",
              "model_name : str\n",
              "    The name of the model used. Default is to use model class name.\n",
              "\n",
              "Returns\n",
              "-------\n",
              "summary : Summary instance\n",
              "    This holds the summary table and text, which can be printed or\n",
              "    converted to various output formats.\n",
              "\n",
              "See Also\n",
              "--------\n",
              "statsmodels.iolib.summary.Summary</pre>\n",
              "      <script>\n",
              "      if (google.colab.kernel.accessAllowed && google.colab.files && google.colab.files.view) {\n",
              "        for (const element of document.querySelectorAll('.filepath')) {\n",
              "          element.style.display = 'block'\n",
              "          element.onclick = (event) => {\n",
              "            event.preventDefault();\n",
              "            event.stopPropagation();\n",
              "            google.colab.files.view(element.textContent, 1967);\n",
              "          };\n",
              "        }\n",
              "      }\n",
              "      for (const element of document.querySelectorAll('.function-repr-contents')) {\n",
              "        element.onclick = (event) => {\n",
              "          event.preventDefault();\n",
              "          event.stopPropagation();\n",
              "          element.classList.toggle('function-repr-contents-collapsed');\n",
              "        };\n",
              "      }\n",
              "      </script>\n",
              "      </div>"
            ]
          },
          "metadata": {},
          "execution_count": 13
        }
      ]
    },
    {
      "cell_type": "code",
      "source": [
        "model_fit.params"
      ],
      "metadata": {
        "colab": {
          "base_uri": "https://localhost:8080/"
        },
        "id": "IXadp-sd6myn",
        "outputId": "889b86f2-a9a8-4005-af33-d9b3a6a6bb70"
      },
      "execution_count": 14,
      "outputs": [
        {
          "output_type": "execute_result",
          "data": {
            "text/plain": [
              "array([100.54655227,   0.99978029,   4.16922355])"
            ]
          },
          "metadata": {},
          "execution_count": 14
        }
      ]
    },
    {
      "cell_type": "code",
      "source": [
        "model_fit.summary()"
      ],
      "metadata": {
        "colab": {
          "base_uri": "https://localhost:8080/",
          "height": 430
        },
        "id": "E4KV8LYN6rB-",
        "outputId": "c41ac4aa-8f62-4535-aeba-cb25944289a2"
      },
      "execution_count": 15,
      "outputs": [
        {
          "output_type": "execute_result",
          "data": {
            "text/plain": [
              "<class 'statsmodels.iolib.summary.Summary'>\n",
              "\"\"\"\n",
              "                               SARIMAX Results                                \n",
              "==============================================================================\n",
              "Dep. Variable:                      y   No. Observations:                   99\n",
              "Model:                 ARIMA(1, 0, 0)   Log Likelihood                -215.013\n",
              "Date:                Tue, 04 Jun 2024   AIC                            436.027\n",
              "Time:                        06:24:02   BIC                            443.812\n",
              "Sample:                             0   HQIC                           439.177\n",
              "                                 - 99                                         \n",
              "Covariance Type:                  opg                                         \n",
              "==============================================================================\n",
              "                 coef    std err          z      P>|z|      [0.025      0.975]\n",
              "------------------------------------------------------------------------------\n",
              "const        100.5466     96.781      1.039      0.299     -89.141     290.234\n",
              "ar.L1          0.9998      0.004    272.074      0.000       0.993       1.007\n",
              "sigma2         4.1692      2.179      1.914      0.056      -0.101       8.439\n",
              "===================================================================================\n",
              "Ljung-Box (L1) (Q):                   6.53   Jarque-Bera (JB):              2327.94\n",
              "Prob(Q):                              0.01   Prob(JB):                         0.00\n",
              "Heteroskedasticity (H):               1.09   Skew:                            -3.42\n",
              "Prob(H) (two-sided):                  0.81   Kurtosis:                        25.75\n",
              "===================================================================================\n",
              "\n",
              "Warnings:\n",
              "[1] Covariance matrix calculated using the outer product of gradients (complex-step).\n",
              "\"\"\""
            ],
            "text/html": [
              "<table class=\"simpletable\">\n",
              "<caption>SARIMAX Results</caption>\n",
              "<tr>\n",
              "  <th>Dep. Variable:</th>           <td>y</td>        <th>  No. Observations:  </th>    <td>99</td>   \n",
              "</tr>\n",
              "<tr>\n",
              "  <th>Model:</th>            <td>ARIMA(1, 0, 0)</td>  <th>  Log Likelihood     </th> <td>-215.013</td>\n",
              "</tr>\n",
              "<tr>\n",
              "  <th>Date:</th>            <td>Tue, 04 Jun 2024</td> <th>  AIC                </th>  <td>436.027</td>\n",
              "</tr>\n",
              "<tr>\n",
              "  <th>Time:</th>                <td>06:24:02</td>     <th>  BIC                </th>  <td>443.812</td>\n",
              "</tr>\n",
              "<tr>\n",
              "  <th>Sample:</th>                  <td>0</td>        <th>  HQIC               </th>  <td>439.177</td>\n",
              "</tr>\n",
              "<tr>\n",
              "  <th></th>                       <td> - 99</td>      <th>                     </th>     <td> </td>   \n",
              "</tr>\n",
              "<tr>\n",
              "  <th>Covariance Type:</th>        <td>opg</td>       <th>                     </th>     <td> </td>   \n",
              "</tr>\n",
              "</table>\n",
              "<table class=\"simpletable\">\n",
              "<tr>\n",
              "     <td></td>       <th>coef</th>     <th>std err</th>      <th>z</th>      <th>P>|z|</th>  <th>[0.025</th>    <th>0.975]</th>  \n",
              "</tr>\n",
              "<tr>\n",
              "  <th>const</th>  <td>  100.5466</td> <td>   96.781</td> <td>    1.039</td> <td> 0.299</td> <td>  -89.141</td> <td>  290.234</td>\n",
              "</tr>\n",
              "<tr>\n",
              "  <th>ar.L1</th>  <td>    0.9998</td> <td>    0.004</td> <td>  272.074</td> <td> 0.000</td> <td>    0.993</td> <td>    1.007</td>\n",
              "</tr>\n",
              "<tr>\n",
              "  <th>sigma2</th> <td>    4.1692</td> <td>    2.179</td> <td>    1.914</td> <td> 0.056</td> <td>   -0.101</td> <td>    8.439</td>\n",
              "</tr>\n",
              "</table>\n",
              "<table class=\"simpletable\">\n",
              "<tr>\n",
              "  <th>Ljung-Box (L1) (Q):</th>     <td>6.53</td> <th>  Jarque-Bera (JB):  </th> <td>2327.94</td>\n",
              "</tr>\n",
              "<tr>\n",
              "  <th>Prob(Q):</th>                <td>0.01</td> <th>  Prob(JB):          </th>  <td>0.00</td>  \n",
              "</tr>\n",
              "<tr>\n",
              "  <th>Heteroskedasticity (H):</th> <td>1.09</td> <th>  Skew:              </th>  <td>-3.42</td> \n",
              "</tr>\n",
              "<tr>\n",
              "  <th>Prob(H) (two-sided):</th>    <td>0.81</td> <th>  Kurtosis:          </th>  <td>25.75</td> \n",
              "</tr>\n",
              "</table><br/><br/>Warnings:<br/>[1] Covariance matrix calculated using the outer product of gradients (complex-step)."
            ],
            "text/latex": "\\begin{center}\n\\begin{tabular}{lclc}\n\\toprule\n\\textbf{Dep. Variable:}          &        y         & \\textbf{  No. Observations:  } &     99      \\\\\n\\textbf{Model:}                  &  ARIMA(1, 0, 0)  & \\textbf{  Log Likelihood     } &  -215.013   \\\\\n\\textbf{Date:}                   & Tue, 04 Jun 2024 & \\textbf{  AIC                } &  436.027    \\\\\n\\textbf{Time:}                   &     06:24:02     & \\textbf{  BIC                } &  443.812    \\\\\n\\textbf{Sample:}                 &        0         & \\textbf{  HQIC               } &  439.177    \\\\\n\\textbf{}                        &       - 99       & \\textbf{                     } &             \\\\\n\\textbf{Covariance Type:}        &       opg        & \\textbf{                     } &             \\\\\n\\bottomrule\n\\end{tabular}\n\\begin{tabular}{lcccccc}\n                & \\textbf{coef} & \\textbf{std err} & \\textbf{z} & \\textbf{P$> |$z$|$} & \\textbf{[0.025} & \\textbf{0.975]}  \\\\\n\\midrule\n\\textbf{const}  &     100.5466  &       96.781     &     1.039  &         0.299        &      -89.141    &      290.234     \\\\\n\\textbf{ar.L1}  &       0.9998  &        0.004     &   272.074  &         0.000        &        0.993    &        1.007     \\\\\n\\textbf{sigma2} &       4.1692  &        2.179     &     1.914  &         0.056        &       -0.101    &        8.439     \\\\\n\\bottomrule\n\\end{tabular}\n\\begin{tabular}{lclc}\n\\textbf{Ljung-Box (L1) (Q):}     & 6.53 & \\textbf{  Jarque-Bera (JB):  } & 2327.94  \\\\\n\\textbf{Prob(Q):}                & 0.01 & \\textbf{  Prob(JB):          } &   0.00   \\\\\n\\textbf{Heteroskedasticity (H):} & 1.09 & \\textbf{  Skew:              } &  -3.42   \\\\\n\\textbf{Prob(H) (two-sided):}    & 0.81 & \\textbf{  Kurtosis:          } &  25.75   \\\\\n\\bottomrule\n\\end{tabular}\n%\\caption{SARIMAX Results}\n\\end{center}\n\nWarnings: \\newline\n [1] Covariance matrix calculated using the outer product of gradients (complex-step)."
          },
          "metadata": {},
          "execution_count": 15
        }
      ]
    },
    {
      "cell_type": "code",
      "source": [],
      "metadata": {
        "id": "cBnHBVTN6zgc"
      },
      "execution_count": null,
      "outputs": []
    }
  ]
}